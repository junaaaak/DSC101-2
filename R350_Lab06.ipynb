{
 "cells": [
  {
   "cell_type": "markdown",
   "id": "effe51a3-5655-4318-9d70-8c42aebde0b1",
   "metadata": {},
   "source": [
    "# Lab 06: Applications of Stack using recursion"
   ]
  },
  {
   "cell_type": "markdown",
   "id": "365701dc-bb7c-4cc5-98fa-c276732d2ff1",
   "metadata": {},
   "source": [
    "We utilize a stack data structure to implement a recursive approach for checking whether a string is a palindrome or not. The idea is to recursively push each character of the string onto the stack until the base case is reached. Then, we compare the characters popped from the stack with the corresponding characters in the original string to determine if it's a palindrome. This application elegantly demonstrates the power of recursion in combination with a stack, providing a clear and concise solution to the palindrome problem."
   ]
  },
  {
   "cell_type": "code",
   "execution_count": 7,
   "id": "885a0292-50c4-4c38-85e8-9079475e8db9",
   "metadata": {},
   "outputs": [],
   "source": [
    "class Stack:\n",
    "    def __init__(self):\n",
    "        self.items = []\n",
    "\n",
    "    def push(self, item):\n",
    "        self.items.append(item)\n",
    "\n",
    "    def pop(self):\n",
    "        if not self.is_empty():\n",
    "            return self.items.pop()\n",
    "        else:\n",
    "            return None\n",
    "\n",
    "    def peek(self):\n",
    "        if not self.is_empty():\n",
    "            return self.items[-1]\n",
    "        else:\n",
    "            return None\n",
    "\n",
    "    def is_empty(self):\n",
    "        return len(self.items) == 0\n",
    "\n",
    "    def size(self):\n",
    "        return len(self.items)"
   ]
  },
  {
   "cell_type": "code",
   "execution_count": 8,
   "id": "f537ba1b-25cd-45f4-b283-815b968e1907",
   "metadata": {},
   "outputs": [],
   "source": [
    "def is_palindrome(input_string):\n",
    "    stack = Stack()\n",
    "    for char in input_string:\n",
    "        stack.push(char)\n",
    "    reverse(stack)\n",
    "    reversed_string = \"\"\n",
    "    while not stack.is_empty():\n",
    "        reversed_string += stack.pop()\n",
    "    return input_string == reversed_string\n",
    "\n",
    "def reverse(stack):\n",
    "    temp_stack = Stack()\n",
    "    while not stack.is_empty():\n",
    "        temp_stack.push(stack.pop())\n",
    "    while not temp_stack.is_empty():\n",
    "        stack.push(temp_stack.pop())"
   ]
  },
  {
   "cell_type": "code",
   "execution_count": 10,
   "id": "86754cfa-3d03-4700-8d9d-a6d3ecf8d465",
   "metadata": {},
   "outputs": [
    {
     "name": "stdin",
     "output_type": "stream",
     "text": [
      "Enter a string (type 'exit' to quit):  Vishal\n"
     ]
    },
    {
     "name": "stdout",
     "output_type": "stream",
     "text": [
      "The input string is not a palindrome.\n"
     ]
    },
    {
     "name": "stdin",
     "output_type": "stream",
     "text": [
      "Enter a string (type 'exit' to quit):  abda\n"
     ]
    },
    {
     "name": "stdout",
     "output_type": "stream",
     "text": [
      "The input string is not a palindrome.\n"
     ]
    },
    {
     "name": "stdin",
     "output_type": "stream",
     "text": [
      "Enter a string (type 'exit' to quit):  abba\n"
     ]
    },
    {
     "name": "stdout",
     "output_type": "stream",
     "text": [
      "The input string is a palindrome.\n"
     ]
    },
    {
     "name": "stdin",
     "output_type": "stream",
     "text": [
      "Enter a string (type 'exit' to quit):  4554\n"
     ]
    },
    {
     "name": "stdout",
     "output_type": "stream",
     "text": [
      "The input string is a palindrome.\n"
     ]
    },
    {
     "name": "stdin",
     "output_type": "stream",
     "text": [
      "Enter a string (type 'exit' to quit):  3503\n"
     ]
    },
    {
     "name": "stdout",
     "output_type": "stream",
     "text": [
      "The input string is not a palindrome.\n"
     ]
    },
    {
     "name": "stdin",
     "output_type": "stream",
     "text": [
      "Enter a string (type 'exit' to quit):  madam\n"
     ]
    },
    {
     "name": "stdout",
     "output_type": "stream",
     "text": [
      "The input string is a palindrome.\n"
     ]
    },
    {
     "name": "stdin",
     "output_type": "stream",
     "text": [
      "Enter a string (type 'exit' to quit):  exit\n"
     ]
    },
    {
     "name": "stdout",
     "output_type": "stream",
     "text": [
      "Exiting the program.\n"
     ]
    }
   ],
   "source": [
    "while True:\n",
    "    input_string = input(\"Enter a string (type 'exit' to quit): \")\n",
    "    if input_string.lower() == 'exit':\n",
    "        print(\"Exiting the program.\")\n",
    "        break\n",
    "    if is_palindrome(input_string):\n",
    "        print(\"The input string is a palindrome.\")\n",
    "    else:\n",
    "        print(\"The input string is not a palindrome.\")"
   ]
  }
 ],
 "metadata": {
  "kernelspec": {
   "display_name": "Python 3 (ipykernel)",
   "language": "python",
   "name": "python3"
  },
  "language_info": {
   "codemirror_mode": {
    "name": "ipython",
    "version": 3
   },
   "file_extension": ".py",
   "mimetype": "text/x-python",
   "name": "python",
   "nbconvert_exporter": "python",
   "pygments_lexer": "ipython3",
   "version": "3.11.5"
  }
 },
 "nbformat": 4,
 "nbformat_minor": 5
}
