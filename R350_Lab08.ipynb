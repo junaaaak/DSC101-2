{
 "cells": [
  {
   "cell_type": "markdown",
   "id": "814fbf36-8ee4-4c3b-b5dc-8bbb9cce8e86",
   "metadata": {},
   "source": [
    "## Lab 8: Demonstration of Searching Algorithms - Linear Search and Binary Search"
   ]
  },
  {
   "cell_type": "code",
   "execution_count": 1,
   "id": "c4527460-5ce0-431b-8994-8c84e532771b",
   "metadata": {},
   "outputs": [],
   "source": [
    "def linear_search(arr, x):\n",
    "    for i in range(len(arr)):\n",
    "        if arr[i] == x:\n",
    "            return i\n",
    "    return -1"
   ]
  },
  {
   "cell_type": "code",
   "execution_count": 2,
   "id": "3edc8d4b-e49d-41dd-a637-b8bbaf697f3d",
   "metadata": {},
   "outputs": [],
   "source": [
    "def binary_search_recursive(arr, low, high, x):\n",
    "    if high >= low:\n",
    "        mid = (high + low) // 2\n",
    "        if arr[mid] == x:\n",
    "            return mid\n",
    "        elif arr[mid] > x:\n",
    "            return binary_search_recursive(arr, low, mid - 1, x)\n",
    "        else:\n",
    "            return binary_search_recursive(arr, mid + 1, high, x)\n",
    "    else:\n",
    "        return -1"
   ]
  },
  {
   "cell_type": "code",
   "execution_count": 3,
   "id": "78b900e4-21cd-4321-b046-d3bc6be01388",
   "metadata": {},
   "outputs": [],
   "source": [
    "def binary_search_iterative(arr, x):\n",
    "    low = 0\n",
    "    high = len(arr) - 1\n",
    "    while low <= high:\n",
    "        mid = (high + low) // 2\n",
    "        if arr[mid] == x:\n",
    "            return mid\n",
    "        elif arr[mid] < x:\n",
    "            low = mid + 1\n",
    "        else:\n",
    "            high = mid - 1\n",
    "    return -1"
   ]
  },
  {
   "cell_type": "code",
   "execution_count": 4,
   "id": "be8b57bd-c6dd-4d63-ac80-2c717d8c3156",
   "metadata": {},
   "outputs": [],
   "source": [
    "def print_menu():\n",
    "    print(\"1. Linear Search\")\n",
    "    print(\"2. Binary Search (Recursive)\")\n",
    "    print(\"3. Binary Search (Iterative)\")\n",
    "    print(\"4. Quit\")\n"
   ]
  },
  {
   "cell_type": "code",
   "execution_count": 5,
   "id": "a94985d5-8090-4ac7-8912-e0d7be0e2aed",
   "metadata": {},
   "outputs": [
    {
     "name": "stdout",
     "output_type": "stream",
     "text": [
      "\n",
      "Menu:\n",
      "1. Linear Search\n",
      "2. Binary Search (Recursive)\n",
      "3. Binary Search (Iterative)\n",
      "4. Quit\n"
     ]
    },
    {
     "name": "stdin",
     "output_type": "stream",
     "text": [
      "Enter your choice:  1\n",
      "Enter space-separated integers (sorted or unsorted):  5 62 13 1 36 95 65\n",
      "Enter the element to search:  36\n"
     ]
    },
    {
     "name": "stdout",
     "output_type": "stream",
     "text": [
      "Element 36 found at index 4\n",
      "\n",
      "Menu:\n",
      "1. Linear Search\n",
      "2. Binary Search (Recursive)\n",
      "3. Binary Search (Iterative)\n",
      "4. Quit\n"
     ]
    },
    {
     "name": "stdin",
     "output_type": "stream",
     "text": [
      "Enter your choice:  2\n",
      "Enter space-separated integers (sorted):  3 6 8 9 11 16 31\n",
      "Enter the element to search:  16\n"
     ]
    },
    {
     "name": "stdout",
     "output_type": "stream",
     "text": [
      "Element 16 found at index 5\n",
      "\n",
      "Menu:\n",
      "1. Linear Search\n",
      "2. Binary Search (Recursive)\n",
      "3. Binary Search (Iterative)\n",
      "4. Quit\n"
     ]
    },
    {
     "name": "stdin",
     "output_type": "stream",
     "text": [
      "Enter your choice:  3\n",
      "Enter space-separated integers (sorted):  103 165 206 251 361 615 729 1024\n",
      "Enter the element to search:  1024\n"
     ]
    },
    {
     "name": "stdout",
     "output_type": "stream",
     "text": [
      "Element 1024 found at index 7\n",
      "\n",
      "Menu:\n",
      "1. Linear Search\n",
      "2. Binary Search (Recursive)\n",
      "3. Binary Search (Iterative)\n",
      "4. Quit\n"
     ]
    },
    {
     "name": "stdin",
     "output_type": "stream",
     "text": [
      "Enter your choice:  4\n"
     ]
    },
    {
     "name": "stdout",
     "output_type": "stream",
     "text": [
      "Exiting...\n"
     ]
    }
   ],
   "source": [
    "while True:\n",
    "    print(\"\\nMenu:\")\n",
    "    print_menu()\n",
    "    choice = input(\"Enter your choice: \")\n",
    "\n",
    "    if choice == '1':\n",
    "        arr = list(map(int, input(\"Enter space-separated integers (sorted or unsorted): \").split()))\n",
    "        x = int(input(\"Enter the element to search: \"))\n",
    "        result = linear_search(arr, x)\n",
    "        if result != -1:\n",
    "            print(f\"Element {x} found at index {result}\")\n",
    "        else:\n",
    "            print(f\"Element {x} not found in the list\")\n",
    "    elif choice == '2':\n",
    "        arr = sorted(list(map(int, input(\"Enter space-separated integers (sorted): \").split())))\n",
    "        x = int(input(\"Enter the element to search: \"))\n",
    "        result = binary_search_recursive(arr, 0, len(arr) - 1, x)\n",
    "        if result != -1:\n",
    "            print(f\"Element {x} found at index {result}\")\n",
    "        else:\n",
    "            print(f\"Element {x} not found in the list\")\n",
    "    elif choice == '3':\n",
    "        arr = sorted(list(map(int, input(\"Enter space-separated integers (sorted): \").split())))\n",
    "        x = int(input(\"Enter the element to search: \"))\n",
    "        result = binary_search_iterative(arr, x)\n",
    "        if result != -1:\n",
    "            print(f\"Element {x} found at index {result}\")\n",
    "        else:\n",
    "            print(f\"Element {x} not found in the list\")\n",
    "    elif choice == '4':\n",
    "        print(\"Exiting...\")\n",
    "        break\n",
    "    else:\n",
    "        print(\"Invalid choice. Please enter a number between 1 and 4.\")"
   ]
  },
  {
   "cell_type": "code",
   "execution_count": null,
   "id": "d17da02a-9e0d-4c0e-ac73-acf9178531a9",
   "metadata": {},
   "outputs": [],
   "source": []
  }
 ],
 "metadata": {
  "kernelspec": {
   "display_name": "Python 3 (ipykernel)",
   "language": "python",
   "name": "python3"
  },
  "language_info": {
   "codemirror_mode": {
    "name": "ipython",
    "version": 3
   },
   "file_extension": ".py",
   "mimetype": "text/x-python",
   "name": "python",
   "nbconvert_exporter": "python",
   "pygments_lexer": "ipython3",
   "version": "3.11.5"
  }
 },
 "nbformat": 4,
 "nbformat_minor": 5
}
