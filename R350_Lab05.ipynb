{
 "cells": [
  {
   "cell_type": "markdown",
   "id": "96c7ee63-9caa-4b85-b9ae-80b35d1f3e3e",
   "metadata": {},
   "source": [
    "## Lab05: Stack and Queue"
   ]
  },
  {
   "cell_type": "code",
   "execution_count": 5,
   "id": "a96738ca-486c-4aa6-a574-ba6f1e96797e",
   "metadata": {},
   "outputs": [],
   "source": [
    "class Stack:\n",
    "    def __init__(self):\n",
    "        self.stack = []\n",
    "\n",
    "    def push(self, item):\n",
    "        self.stack.append(item)\n",
    "\n",
    "    def pop(self):\n",
    "        if not self.is_empty():\n",
    "            return self.stack.pop()\n",
    "        else:\n",
    "            print(\"Stack is empty\")\n",
    "            return None\n",
    "\n",
    "    def peek(self):\n",
    "        if not self.is_empty():\n",
    "            return self.stack[-1]\n",
    "        else:\n",
    "            print(\"Stack is empty\")\n",
    "            return None\n",
    "\n",
    "    def is_empty(self):\n",
    "        return len(self.stack) == 0\n",
    "\n",
    "    def size(self):\n",
    "        return len(self.stack)\n",
    "\n",
    "    def display(self):\n",
    "        print(\"Stack:\", self.stack)\n"
   ]
  },
  {
   "cell_type": "code",
   "execution_count": 6,
   "id": "5291731e-3e87-435c-b02f-aed1bd10c809",
   "metadata": {},
   "outputs": [],
   "source": [
    "class Queue:\n",
    "    def __init__(self):\n",
    "        self.queue = []\n",
    "\n",
    "    def enqueue(self, item):\n",
    "        self.queue.append(item)\n",
    "\n",
    "    def dequeue(self):\n",
    "        if not self.is_empty():\n",
    "            return self.queue.pop(0)\n",
    "        else:\n",
    "            print(\"Queue is empty\")\n",
    "            return None\n",
    "\n",
    "    def peek(self):\n",
    "        if not self.is_empty():\n",
    "            return self.queue[0]\n",
    "        else:\n",
    "            print(\"Queue is empty\")\n",
    "            return None\n",
    "\n",
    "    def is_empty(self):\n",
    "        return len(self.queue) == 0\n",
    "\n",
    "    def size(self):\n",
    "        return len(self.queue)\n",
    "\n",
    "    def display(self):\n",
    "        print(\"Queue:\", self.queue)\n"
   ]
  },
  {
   "cell_type": "code",
   "execution_count": 9,
   "id": "fc295203-550c-4685-be43-294337bec71d",
   "metadata": {},
   "outputs": [
    {
     "name": "stdout",
     "output_type": "stream",
     "text": [
      "\n",
      "Choose operation:\n",
      "1. Stack Operations\n",
      "2. Queue Operations\n",
      "3. Exit\n"
     ]
    },
    {
     "name": "stdin",
     "output_type": "stream",
     "text": [
      "Enter your choice:  1\n"
     ]
    },
    {
     "name": "stdout",
     "output_type": "stream",
     "text": [
      "\n",
      "Stack Operations:\n",
      "1. Push\n",
      "2. Pop\n",
      "3. Peek\n",
      "4. Display\n",
      "5. Back to Main Menu\n"
     ]
    },
    {
     "name": "stdin",
     "output_type": "stream",
     "text": [
      "Enter your choice:  1\n",
      "Enter item to push onto stack:  33\n"
     ]
    },
    {
     "name": "stdout",
     "output_type": "stream",
     "text": [
      "Item pushed onto stack\n",
      "\n",
      "Stack Operations:\n",
      "1. Push\n",
      "2. Pop\n",
      "3. Peek\n",
      "4. Display\n",
      "5. Back to Main Menu\n"
     ]
    },
    {
     "name": "stdin",
     "output_type": "stream",
     "text": [
      "Enter your choice:  1\n",
      "Enter item to push onto stack:  25\n"
     ]
    },
    {
     "name": "stdout",
     "output_type": "stream",
     "text": [
      "Item pushed onto stack\n",
      "\n",
      "Stack Operations:\n",
      "1. Push\n",
      "2. Pop\n",
      "3. Peek\n",
      "4. Display\n",
      "5. Back to Main Menu\n"
     ]
    },
    {
     "name": "stdin",
     "output_type": "stream",
     "text": [
      "Enter your choice:  1\n",
      "Enter item to push onto stack:  985\n"
     ]
    },
    {
     "name": "stdout",
     "output_type": "stream",
     "text": [
      "Item pushed onto stack\n",
      "\n",
      "Stack Operations:\n",
      "1. Push\n",
      "2. Pop\n",
      "3. Peek\n",
      "4. Display\n",
      "5. Back to Main Menu\n"
     ]
    },
    {
     "name": "stdin",
     "output_type": "stream",
     "text": [
      "Enter your choice:  1\n",
      "Enter item to push onto stack:  45\n"
     ]
    },
    {
     "name": "stdout",
     "output_type": "stream",
     "text": [
      "Item pushed onto stack\n",
      "\n",
      "Stack Operations:\n",
      "1. Push\n",
      "2. Pop\n",
      "3. Peek\n",
      "4. Display\n",
      "5. Back to Main Menu\n"
     ]
    },
    {
     "name": "stdin",
     "output_type": "stream",
     "text": [
      "Enter your choice:  3\n"
     ]
    },
    {
     "name": "stdout",
     "output_type": "stream",
     "text": [
      "Top item on stack: 45\n",
      "\n",
      "Stack Operations:\n",
      "1. Push\n",
      "2. Pop\n",
      "3. Peek\n",
      "4. Display\n",
      "5. Back to Main Menu\n"
     ]
    },
    {
     "name": "stdin",
     "output_type": "stream",
     "text": [
      "Enter your choice:  2\n"
     ]
    },
    {
     "name": "stdout",
     "output_type": "stream",
     "text": [
      "Popped item: 45\n",
      "\n",
      "Stack Operations:\n",
      "1. Push\n",
      "2. Pop\n",
      "3. Peek\n",
      "4. Display\n",
      "5. Back to Main Menu\n"
     ]
    },
    {
     "name": "stdin",
     "output_type": "stream",
     "text": [
      "Enter your choice:  4\n"
     ]
    },
    {
     "name": "stdout",
     "output_type": "stream",
     "text": [
      "Stack: ['33', '25', '985']\n",
      "\n",
      "Stack Operations:\n",
      "1. Push\n",
      "2. Pop\n",
      "3. Peek\n",
      "4. Display\n",
      "5. Back to Main Menu\n"
     ]
    },
    {
     "name": "stdin",
     "output_type": "stream",
     "text": [
      "Enter your choice:  5\n"
     ]
    },
    {
     "name": "stdout",
     "output_type": "stream",
     "text": [
      "\n",
      "Choose operation:\n",
      "1. Stack Operations\n",
      "2. Queue Operations\n",
      "3. Exit\n"
     ]
    },
    {
     "name": "stdin",
     "output_type": "stream",
     "text": [
      "Enter your choice:  2\n"
     ]
    },
    {
     "name": "stdout",
     "output_type": "stream",
     "text": [
      "\n",
      "Queue Operations:\n",
      "1. Enqueue\n",
      "2. Dequeue\n",
      "3. Peek\n",
      "4. Display\n",
      "5. Back to Main Menu\n"
     ]
    },
    {
     "name": "stdin",
     "output_type": "stream",
     "text": [
      "Enter your choice:  1\n",
      "Enter item to enqueue into queue:  16\n"
     ]
    },
    {
     "name": "stdout",
     "output_type": "stream",
     "text": [
      "Item enqueued into queue\n",
      "\n",
      "Queue Operations:\n",
      "1. Enqueue\n",
      "2. Dequeue\n",
      "3. Peek\n",
      "4. Display\n",
      "5. Back to Main Menu\n"
     ]
    },
    {
     "name": "stdin",
     "output_type": "stream",
     "text": [
      "Enter your choice:  1\n",
      "Enter item to enqueue into queue:  75\n"
     ]
    },
    {
     "name": "stdout",
     "output_type": "stream",
     "text": [
      "Item enqueued into queue\n",
      "\n",
      "Queue Operations:\n",
      "1. Enqueue\n",
      "2. Dequeue\n",
      "3. Peek\n",
      "4. Display\n",
      "5. Back to Main Menu\n"
     ]
    },
    {
     "name": "stdin",
     "output_type": "stream",
     "text": [
      "Enter your choice:  1\n",
      "Enter item to enqueue into queue:  654\n"
     ]
    },
    {
     "name": "stdout",
     "output_type": "stream",
     "text": [
      "Item enqueued into queue\n",
      "\n",
      "Queue Operations:\n",
      "1. Enqueue\n",
      "2. Dequeue\n",
      "3. Peek\n",
      "4. Display\n",
      "5. Back to Main Menu\n"
     ]
    },
    {
     "name": "stdin",
     "output_type": "stream",
     "text": [
      "Enter your choice:  1\n",
      "Enter item to enqueue into queue:  203\n"
     ]
    },
    {
     "name": "stdout",
     "output_type": "stream",
     "text": [
      "Item enqueued into queue\n",
      "\n",
      "Queue Operations:\n",
      "1. Enqueue\n",
      "2. Dequeue\n",
      "3. Peek\n",
      "4. Display\n",
      "5. Back to Main Menu\n"
     ]
    },
    {
     "name": "stdin",
     "output_type": "stream",
     "text": [
      "Enter your choice:  3\n"
     ]
    },
    {
     "name": "stdout",
     "output_type": "stream",
     "text": [
      "Front item in queue: 16\n",
      "\n",
      "Queue Operations:\n",
      "1. Enqueue\n",
      "2. Dequeue\n",
      "3. Peek\n",
      "4. Display\n",
      "5. Back to Main Menu\n"
     ]
    },
    {
     "name": "stdin",
     "output_type": "stream",
     "text": [
      "Enter your choice:  2\n"
     ]
    },
    {
     "name": "stdout",
     "output_type": "stream",
     "text": [
      "Dequeued item: 16\n",
      "\n",
      "Queue Operations:\n",
      "1. Enqueue\n",
      "2. Dequeue\n",
      "3. Peek\n",
      "4. Display\n",
      "5. Back to Main Menu\n"
     ]
    },
    {
     "name": "stdin",
     "output_type": "stream",
     "text": [
      "Enter your choice:  4\n"
     ]
    },
    {
     "name": "stdout",
     "output_type": "stream",
     "text": [
      "Queue: ['75', '654', '203']\n",
      "\n",
      "Queue Operations:\n",
      "1. Enqueue\n",
      "2. Dequeue\n",
      "3. Peek\n",
      "4. Display\n",
      "5. Back to Main Menu\n"
     ]
    },
    {
     "name": "stdin",
     "output_type": "stream",
     "text": [
      "Enter your choice:  5\n"
     ]
    },
    {
     "name": "stdout",
     "output_type": "stream",
     "text": [
      "\n",
      "Choose operation:\n",
      "1. Stack Operations\n",
      "2. Queue Operations\n",
      "3. Exit\n"
     ]
    },
    {
     "name": "stdin",
     "output_type": "stream",
     "text": [
      "Enter your choice:  3\n"
     ]
    },
    {
     "name": "stdout",
     "output_type": "stream",
     "text": [
      "Exiting program...\n"
     ]
    }
   ],
   "source": [
    "def main():\n",
    "    stack = Stack()\n",
    "    queue = Queue()\n",
    "\n",
    "    while True:\n",
    "        print(\"\\nChoose operation:\")\n",
    "        print(\"1. Stack Operations\")\n",
    "        print(\"2. Queue Operations\")\n",
    "        print(\"3. Exit\")\n",
    "\n",
    "        choice = input(\"Enter your choice: \")\n",
    "\n",
    "        if choice == '1':\n",
    "            stack_menu(stack)\n",
    "        elif choice == '2':\n",
    "            queue_menu(queue)\n",
    "        elif choice == '3':\n",
    "            print(\"Exiting program...\")\n",
    "            break\n",
    "        else:\n",
    "            print(\"Invalid choice. Please enter 1, 2, or 3.\")\n",
    "\n",
    "\n",
    "def stack_menu(stack):\n",
    "    while True:\n",
    "        print(\"\\nStack Operations:\")\n",
    "        print(\"1. Push\")\n",
    "        print(\"2. Pop\")\n",
    "        print(\"3. Peek\")\n",
    "        print(\"4. Display\")\n",
    "        print(\"5. Back to Main Menu\")\n",
    "\n",
    "        choice = input(\"Enter your choice: \")\n",
    "\n",
    "        if choice == '1':\n",
    "            item = input(\"Enter item to push onto stack: \")\n",
    "            stack.push(item)\n",
    "            print(\"Item pushed onto stack\")\n",
    "        elif choice == '2':\n",
    "            item = stack.pop()\n",
    "            if item is not None:\n",
    "                print(\"Popped item:\", item)\n",
    "        elif choice == '3':\n",
    "            item = stack.peek()\n",
    "            if item is not None:\n",
    "                print(\"Top item on stack:\", item)\n",
    "        elif choice == '4':\n",
    "            stack.display()\n",
    "        elif choice == '5':\n",
    "            break\n",
    "        else:\n",
    "            print(\"Invalid choice. Please enter 1, 2, 3, 4, or 5.\")\n",
    "\n",
    "\n",
    "def queue_menu(queue):\n",
    "    while True:\n",
    "        print(\"\\nQueue Operations:\")\n",
    "        print(\"1. Enqueue\")\n",
    "        print(\"2. Dequeue\")\n",
    "        print(\"3. Peek\")\n",
    "        print(\"4. Display\")\n",
    "        print(\"5. Back to Main Menu\")\n",
    "\n",
    "        choice = input(\"Enter your choice: \")\n",
    "\n",
    "        if choice == '1':\n",
    "            item = input(\"Enter item to enqueue into queue: \")\n",
    "            queue.enqueue(item)\n",
    "            print(\"Item enqueued into queue\")\n",
    "        elif choice == '2':\n",
    "            item = queue.dequeue()\n",
    "            if item is not None:\n",
    "                print(\"Dequeued item:\", item)\n",
    "        elif choice == '3':\n",
    "            item = queue.peek()\n",
    "            if item is not None:\n",
    "                print(\"Front item in queue:\", item)\n",
    "        elif choice == '4':\n",
    "            queue.display()\n",
    "        elif choice == '5':\n",
    "            break\n",
    "        else:\n",
    "            print(\"Invalid choice. Please enter 1, 2, 3, 4, or 5.\")\n",
    "\n",
    "\n",
    "if __name__ == \"__main__\":\n",
    "    main()\n"
   ]
  },
  {
   "cell_type": "code",
   "execution_count": null,
   "id": "1d8f881c-1818-465f-9b39-fa869f272ec2",
   "metadata": {},
   "outputs": [],
   "source": []
  }
 ],
 "metadata": {
  "kernelspec": {
   "display_name": "Python 3 (ipykernel)",
   "language": "python",
   "name": "python3"
  },
  "language_info": {
   "codemirror_mode": {
    "name": "ipython",
    "version": 3
   },
   "file_extension": ".py",
   "mimetype": "text/x-python",
   "name": "python",
   "nbconvert_exporter": "python",
   "pygments_lexer": "ipython3",
   "version": "3.11.5"
  }
 },
 "nbformat": 4,
 "nbformat_minor": 5
}
