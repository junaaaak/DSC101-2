{
  "nbformat": 4,
  "nbformat_minor": 0,
  "metadata": {
    "colab": {
      "provenance": []
    },
    "kernelspec": {
      "name": "python3",
      "display_name": "Python 3"
    },
    "language_info": {
      "name": "python"
    }
  },
  "cells": [
    {
      "cell_type": "markdown",
      "source": [
        "# **Matrix Operations using 2D Array**"
      ],
      "metadata": {
        "id": "hkQUh_rPAG1v"
      }
    },
    {
      "cell_type": "code",
      "source": [
        "matrix_A = [[1, 2, 3],\n",
        "            [4, 5, 6],\n",
        "            [7, 8, 9]]"
      ],
      "metadata": {
        "id": "Vet5WRUnAJiw"
      },
      "execution_count": null,
      "outputs": []
    },
    {
      "cell_type": "code",
      "source": [
        "matrix_B = [[9, 8, 7],\n",
        "            [6, 5, 4],\n",
        "            [3, 2, 1]]"
      ],
      "metadata": {
        "id": "MJpXo-WLBW6y"
      },
      "execution_count": null,
      "outputs": []
    },
    {
      "cell_type": "markdown",
      "source": [
        "## **Matrix Addition**"
      ],
      "metadata": {
        "id": "dGdfHGUTBmZk"
      }
    },
    {
      "cell_type": "code",
      "source": [
        "addition = []"
      ],
      "metadata": {
        "id": "jtALITCrBYWR"
      },
      "execution_count": null,
      "outputs": []
    },
    {
      "cell_type": "code",
      "source": [
        "for i in range(len(matrix_A)):\n",
        "    row = []\n",
        "    for j in range(len(matrix_A[0])):\n",
        "        row.append(matrix_A[i][j] + matrix_B[i][j])\n",
        "    addition.append(row)"
      ],
      "metadata": {
        "id": "L4Ll_lviBstm"
      },
      "execution_count": null,
      "outputs": []
    },
    {
      "cell_type": "code",
      "source": [
        "print(\"Matrix A:\\n\", matrix_A)\n",
        "print(\"Matrix B:\\n\", matrix_B)"
      ],
      "metadata": {
        "colab": {
          "base_uri": "https://localhost:8080/"
        },
        "id": "2_LwLGiVBw2G",
        "outputId": "0920af11-59cf-41fc-8e27-7171f0f72872"
      },
      "execution_count": null,
      "outputs": [
        {
          "output_type": "stream",
          "name": "stdout",
          "text": [
            "Matrix A:\n",
            " [[1, 2, 3], [4, 5, 6], [7, 8, 9]]\n",
            "Matrix B:\n",
            " [[9, 8, 7], [6, 5, 4], [3, 2, 1]]\n"
          ]
        }
      ]
    },
    {
      "cell_type": "code",
      "source": [
        "print(\"Matrix Addition (A + B):\\n\", addition)"
      ],
      "metadata": {
        "colab": {
          "base_uri": "https://localhost:8080/"
        },
        "id": "2uYrigCYB3Q4",
        "outputId": "2e84c668-b053-495a-9f8b-6345e359e413"
      },
      "execution_count": null,
      "outputs": [
        {
          "output_type": "stream",
          "name": "stdout",
          "text": [
            "Matrix Addition (A + B):\n",
            " [[10, 10, 10], [10, 10, 10], [10, 10, 10]]\n"
          ]
        }
      ]
    },
    {
      "cell_type": "markdown",
      "source": [
        "## **Matrix Subtraction**"
      ],
      "metadata": {
        "id": "GG7IWBw7CDnW"
      }
    },
    {
      "cell_type": "code",
      "source": [
        "subtraction = []"
      ],
      "metadata": {
        "id": "QlRMKQpICAd2"
      },
      "execution_count": null,
      "outputs": []
    },
    {
      "cell_type": "code",
      "source": [
        "for i in range(len(matrix_A)):\n",
        "    row = []\n",
        "    for j in range(len(matrix_A[0])):\n",
        "        row.append(matrix_A[i][j] - matrix_B[i][j])\n",
        "    subtraction.append(row)"
      ],
      "metadata": {
        "id": "r_Tx_D4bCKlZ"
      },
      "execution_count": null,
      "outputs": []
    },
    {
      "cell_type": "code",
      "source": [
        "print(\"Matrix A:\\n\", matrix_A)\n",
        "print(\"Matrix B:\\n\", matrix_B)"
      ],
      "metadata": {
        "colab": {
          "base_uri": "https://localhost:8080/"
        },
        "id": "dUMNx7oECN8S",
        "outputId": "16fa324a-68a8-46f4-eebe-037b73e9c17d"
      },
      "execution_count": null,
      "outputs": [
        {
          "output_type": "stream",
          "name": "stdout",
          "text": [
            "Matrix A:\n",
            " [[1, 2, 3], [4, 5, 6], [7, 8, 9]]\n",
            "Matrix B:\n",
            " [[9, 8, 7], [6, 5, 4], [3, 2, 1]]\n"
          ]
        }
      ]
    },
    {
      "cell_type": "code",
      "source": [
        "print(\"Matrix Subtraction (A - B):\\n\", subtraction)"
      ],
      "metadata": {
        "colab": {
          "base_uri": "https://localhost:8080/"
        },
        "id": "1068UMhjCQ_Y",
        "outputId": "f390b1bc-6733-4b7d-f299-1686cb7e4fa1"
      },
      "execution_count": null,
      "outputs": [
        {
          "output_type": "stream",
          "name": "stdout",
          "text": [
            "Matrix Subtraction (A - B):\n",
            " [[-8, -6, -4], [-2, 0, 2], [4, 6, 8]]\n"
          ]
        }
      ]
    },
    {
      "cell_type": "markdown",
      "source": [
        "## **Matrix Multiplication**"
      ],
      "metadata": {
        "id": "cw-RvMYcCv9u"
      }
    },
    {
      "cell_type": "code",
      "source": [
        "multiplication = []"
      ],
      "metadata": {
        "id": "oHKV91kFCj5s"
      },
      "execution_count": null,
      "outputs": []
    },
    {
      "cell_type": "code",
      "source": [
        "for i in range(len(matrix_A)):\n",
        "    row = []\n",
        "    for j in range(len(matrix_B[0])):\n",
        "        element_sum = 0\n",
        "        for k in range(len(matrix_B)):\n",
        "            element_sum += matrix_A[i][k] * matrix_B[k][j]\n",
        "        row.append(element_sum)\n",
        "    multiplication.append(row)"
      ],
      "metadata": {
        "id": "6jF19SgoCz3s"
      },
      "execution_count": null,
      "outputs": []
    },
    {
      "cell_type": "code",
      "source": [
        "print(\"Matrix A:\\n\", matrix_A)\n",
        "print(\"Matrix B:\\n\", matrix_B)"
      ],
      "metadata": {
        "colab": {
          "base_uri": "https://localhost:8080/"
        },
        "id": "FXmLU00XC3AX",
        "outputId": "66611f2e-530d-4f3a-f8c4-08be935b3c29"
      },
      "execution_count": null,
      "outputs": [
        {
          "output_type": "stream",
          "name": "stdout",
          "text": [
            "Matrix A:\n",
            " [[1, 2, 3], [4, 5, 6], [7, 8, 9]]\n",
            "Matrix B:\n",
            " [[9, 8, 7], [6, 5, 4], [3, 2, 1]]\n"
          ]
        }
      ]
    },
    {
      "cell_type": "code",
      "source": [
        "print(\"Matrix Multiplication (A * B):\\n\", multiplication)"
      ],
      "metadata": {
        "colab": {
          "base_uri": "https://localhost:8080/"
        },
        "id": "S7cy5pOJC42q",
        "outputId": "3a8a288c-54c3-4bea-f875-4d9fc44d9bfb"
      },
      "execution_count": null,
      "outputs": [
        {
          "output_type": "stream",
          "name": "stdout",
          "text": [
            "Matrix Multiplication (A * B):\n",
            " [[30, 24, 18], [84, 69, 54], [138, 114, 90]]\n"
          ]
        }
      ]
    },
    {
      "cell_type": "markdown",
      "source": [
        "## **Matrix Transpose**"
      ],
      "metadata": {
        "id": "j77u4O4tESGR"
      }
    },
    {
      "cell_type": "code",
      "source": [
        "transpose = []"
      ],
      "metadata": {
        "id": "Dr5mXnjsC918"
      },
      "execution_count": null,
      "outputs": []
    },
    {
      "cell_type": "code",
      "source": [
        "for j in range(len(matrix_A[0])):\n",
        "    row = []\n",
        "    for i in range(len(matrix_A)):\n",
        "        row.append(matrix_A[i][j])\n",
        "    transpose.append(row)"
      ],
      "metadata": {
        "id": "3i-3OFZmEU9D"
      },
      "execution_count": null,
      "outputs": []
    },
    {
      "cell_type": "code",
      "source": [
        "print(\"Matrix A:\\n\", matrix_A)"
      ],
      "metadata": {
        "colab": {
          "base_uri": "https://localhost:8080/"
        },
        "id": "kLImXlo2EVo6",
        "outputId": "0e6224b9-ebaa-4a1e-bd1c-c922ef80944a"
      },
      "execution_count": null,
      "outputs": [
        {
          "output_type": "stream",
          "name": "stdout",
          "text": [
            "Matrix A:\n",
            " [[1, 2, 3], [4, 5, 6], [7, 8, 9]]\n"
          ]
        }
      ]
    },
    {
      "cell_type": "code",
      "source": [
        "print(\"Matrix Transpose (A Transposed):\\n\", transpose)"
      ],
      "metadata": {
        "colab": {
          "base_uri": "https://localhost:8080/"
        },
        "id": "xKAJhAQtEXMR",
        "outputId": "0df43185-1aef-4249-c6c7-450b27cf4a0d"
      },
      "execution_count": null,
      "outputs": [
        {
          "output_type": "stream",
          "name": "stdout",
          "text": [
            "Matrix Transpose (A Transposed):\n",
            " [[1, 4, 7], [2, 5, 8], [3, 6, 9]]\n"
          ]
        }
      ]
    },
    {
      "cell_type": "code",
      "source": [],
      "metadata": {
        "id": "aOZ9l54CEccs"
      },
      "execution_count": null,
      "outputs": []
    }
  ]
}